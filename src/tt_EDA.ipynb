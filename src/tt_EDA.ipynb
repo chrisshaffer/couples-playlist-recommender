{
 "cells": [
  {
   "cell_type": "code",
   "execution_count": 1,
   "id": "7aaf3ea6",
   "metadata": {},
   "outputs": [],
   "source": [
    "import hdf5_getters\n",
    "import numpy as np\n",
    "import pandas as pd\n",
    "import os\n",
    "from pandas.api.types import is_numeric_dtype\n",
    "import matplotlib.pyplot as plt\n",
    "from matplotlib import rcParams\n",
    "import seaborn as sns"
   ]
  },
  {
   "cell_type": "code",
   "execution_count": 73,
   "id": "1ef6608f",
   "metadata": {},
   "outputs": [],
   "source": [
    "tt = pd.read_csv('../data/train_triplets.txt',delimiter='\\t', header=None)\n",
    "tt.columns = ['user_id', 'track_id','plays']"
   ]
  },
  {
   "cell_type": "code",
   "execution_count": 3,
   "id": "1d76c1ac",
   "metadata": {},
   "outputs": [
    {
     "data": {
      "text/html": [
       "<div>\n",
       "<style scoped>\n",
       "    .dataframe tbody tr th:only-of-type {\n",
       "        vertical-align: middle;\n",
       "    }\n",
       "\n",
       "    .dataframe tbody tr th {\n",
       "        vertical-align: top;\n",
       "    }\n",
       "\n",
       "    .dataframe thead th {\n",
       "        text-align: right;\n",
       "    }\n",
       "</style>\n",
       "<table border=\"1\" class=\"dataframe\">\n",
       "  <thead>\n",
       "    <tr style=\"text-align: right;\">\n",
       "      <th></th>\n",
       "      <th>user_id</th>\n",
       "      <th>track_id</th>\n",
       "      <th>plays</th>\n",
       "    </tr>\n",
       "  </thead>\n",
       "  <tbody>\n",
       "    <tr>\n",
       "      <th>0</th>\n",
       "      <td>b80344d063b5ccb3212f76538f3d9e43d87dca9e</td>\n",
       "      <td>SOAKIMP12A8C130995</td>\n",
       "      <td>1</td>\n",
       "    </tr>\n",
       "    <tr>\n",
       "      <th>1</th>\n",
       "      <td>b80344d063b5ccb3212f76538f3d9e43d87dca9e</td>\n",
       "      <td>SOAPDEY12A81C210A9</td>\n",
       "      <td>1</td>\n",
       "    </tr>\n",
       "    <tr>\n",
       "      <th>2</th>\n",
       "      <td>b80344d063b5ccb3212f76538f3d9e43d87dca9e</td>\n",
       "      <td>SOBBMDR12A8C13253B</td>\n",
       "      <td>2</td>\n",
       "    </tr>\n",
       "    <tr>\n",
       "      <th>3</th>\n",
       "      <td>b80344d063b5ccb3212f76538f3d9e43d87dca9e</td>\n",
       "      <td>SOBFNSP12AF72A0E22</td>\n",
       "      <td>1</td>\n",
       "    </tr>\n",
       "    <tr>\n",
       "      <th>4</th>\n",
       "      <td>b80344d063b5ccb3212f76538f3d9e43d87dca9e</td>\n",
       "      <td>SOBFOVM12A58A7D494</td>\n",
       "      <td>1</td>\n",
       "    </tr>\n",
       "  </tbody>\n",
       "</table>\n",
       "</div>"
      ],
      "text/plain": [
       "                                    user_id            track_id  plays\n",
       "0  b80344d063b5ccb3212f76538f3d9e43d87dca9e  SOAKIMP12A8C130995      1\n",
       "1  b80344d063b5ccb3212f76538f3d9e43d87dca9e  SOAPDEY12A81C210A9      1\n",
       "2  b80344d063b5ccb3212f76538f3d9e43d87dca9e  SOBBMDR12A8C13253B      2\n",
       "3  b80344d063b5ccb3212f76538f3d9e43d87dca9e  SOBFNSP12AF72A0E22      1\n",
       "4  b80344d063b5ccb3212f76538f3d9e43d87dca9e  SOBFOVM12A58A7D494      1"
      ]
     },
     "execution_count": 3,
     "metadata": {},
     "output_type": "execute_result"
    }
   ],
   "source": [
    "tt.head()"
   ]
  },
  {
   "cell_type": "code",
   "execution_count": 4,
   "id": "4f92a9b9",
   "metadata": {},
   "outputs": [
    {
     "name": "stdout",
     "output_type": "stream",
     "text": [
      "<class 'pandas.core.frame.DataFrame'>\n",
      "RangeIndex: 48373586 entries, 0 to 48373585\n",
      "Data columns (total 3 columns):\n",
      " #   Column    Dtype \n",
      "---  ------    ----- \n",
      " 0   user_id   object\n",
      " 1   track_id  object\n",
      " 2   plays     int64 \n",
      "dtypes: int64(1), object(2)\n",
      "memory usage: 1.1+ GB\n"
     ]
    }
   ],
   "source": [
    "tt.info()"
   ]
  },
  {
   "cell_type": "code",
   "execution_count": 5,
   "id": "6abc9fac",
   "metadata": {
    "scrolled": true
   },
   "outputs": [
    {
     "name": "stdout",
     "output_type": "stream",
     "text": [
      "0.00038886924777501504\n"
     ]
    },
    {
     "data": {
      "text/html": [
       "<div>\n",
       "<style scoped>\n",
       "    .dataframe tbody tr th:only-of-type {\n",
       "        vertical-align: middle;\n",
       "    }\n",
       "\n",
       "    .dataframe tbody tr th {\n",
       "        vertical-align: top;\n",
       "    }\n",
       "\n",
       "    .dataframe thead th {\n",
       "        text-align: right;\n",
       "    }\n",
       "</style>\n",
       "<table border=\"1\" class=\"dataframe\">\n",
       "  <thead>\n",
       "    <tr style=\"text-align: right;\">\n",
       "      <th></th>\n",
       "      <th>plays</th>\n",
       "    </tr>\n",
       "  </thead>\n",
       "  <tbody>\n",
       "    <tr>\n",
       "      <th>count</th>\n",
       "      <td>4.837359e+07</td>\n",
       "    </tr>\n",
       "    <tr>\n",
       "      <th>mean</th>\n",
       "      <td>2.866859e+00</td>\n",
       "    </tr>\n",
       "    <tr>\n",
       "      <th>std</th>\n",
       "      <td>6.437725e+00</td>\n",
       "    </tr>\n",
       "    <tr>\n",
       "      <th>min</th>\n",
       "      <td>1.000000e+00</td>\n",
       "    </tr>\n",
       "    <tr>\n",
       "      <th>50%</th>\n",
       "      <td>1.000000e+00</td>\n",
       "    </tr>\n",
       "    <tr>\n",
       "      <th>75%</th>\n",
       "      <td>3.000000e+00</td>\n",
       "    </tr>\n",
       "    <tr>\n",
       "      <th>90%</th>\n",
       "      <td>6.000000e+00</td>\n",
       "    </tr>\n",
       "    <tr>\n",
       "      <th>95%</th>\n",
       "      <td>1.000000e+01</td>\n",
       "    </tr>\n",
       "    <tr>\n",
       "      <th>99%</th>\n",
       "      <td>2.400000e+01</td>\n",
       "    </tr>\n",
       "    <tr>\n",
       "      <th>max</th>\n",
       "      <td>9.667000e+03</td>\n",
       "    </tr>\n",
       "  </tbody>\n",
       "</table>\n",
       "</div>"
      ],
      "text/plain": [
       "              plays\n",
       "count  4.837359e+07\n",
       "mean   2.866859e+00\n",
       "std    6.437725e+00\n",
       "min    1.000000e+00\n",
       "50%    1.000000e+00\n",
       "75%    3.000000e+00\n",
       "90%    6.000000e+00\n",
       "95%    1.000000e+01\n",
       "99%    2.400000e+01\n",
       "max    9.667000e+03"
      ]
     },
     "execution_count": 5,
     "metadata": {},
     "output_type": "execute_result"
    }
   ],
   "source": [
    "print(tt.plays[tt.plays > 100].shape[0]/tt.plays.shape[0])\n",
    "tt.describe(percentiles = [.5, .75, .9, .95, .99])"
   ]
  },
  {
   "cell_type": "code",
   "execution_count": 6,
   "id": "ef3bc1f8",
   "metadata": {},
   "outputs": [
    {
     "name": "stdout",
     "output_type": "stream",
     "text": [
      "0.012340998279304207\n"
     ]
    }
   ],
   "source": [
    "num_users = tt.user_id.unique().shape[0]\n",
    "num_songs = tt.track_id.unique().shape[0]\n",
    "num_entries = tt.shape[0]\n",
    "sparsity = num_entries/(num_users*num_songs)*100\n",
    "print(sparsity)"
   ]
  },
  {
   "cell_type": "code",
   "execution_count": 7,
   "id": "c44f43ca",
   "metadata": {},
   "outputs": [
    {
     "name": "stdout",
     "output_type": "stream",
     "text": [
      "3.985291718592888\n"
     ]
    },
    {
     "data": {
      "image/png": "[encoded data removed]",
      "text/plain": [
       "<Figure size 576x576 with 1 Axes>"
      ]
     },
     "metadata": {
      "needs_background": "light"
     },
     "output_type": "display_data"
    }
   ],
   "source": [
    "rcParams.update({'font.size': 22})\n",
    "\n",
    "fig,ax = plt.subplots(figsize=(8,8))\n",
    "ax.hist(np.log10(tt.plays),bins = 20,color = sns.color_palette(\"husl\", 7)[1]);\n",
    "plt.xlabel('log(Plays)')\n",
    "plt.ylabel('Count')\n",
    "print(np.max(np.log10(tt['plays'])))\n",
    "\n",
    "plt.savefig('../img/plays_hist_logy.jpg')"
   ]
  },
  {
   "cell_type": "code",
   "execution_count": 8,
   "id": "57acb193",
   "metadata": {},
   "outputs": [
    {
     "data": {
      "text/html": [
       "<div>\n",
       "<style scoped>\n",
       "    .dataframe tbody tr th:only-of-type {\n",
       "        vertical-align: middle;\n",
       "    }\n",
       "\n",
       "    .dataframe tbody tr th {\n",
       "        vertical-align: top;\n",
       "    }\n",
       "\n",
       "    .dataframe thead th {\n",
       "        text-align: right;\n",
       "    }\n",
       "</style>\n",
       "<table border=\"1\" class=\"dataframe\">\n",
       "  <thead>\n",
       "    <tr style=\"text-align: right;\">\n",
       "      <th></th>\n",
       "      <th>user_id</th>\n",
       "      <th>track_id</th>\n",
       "      <th>rating</th>\n",
       "    </tr>\n",
       "  </thead>\n",
       "  <tbody>\n",
       "    <tr>\n",
       "      <th>0</th>\n",
       "      <td>b80344d063b5ccb3212f76538f3d9e43d87dca9e</td>\n",
       "      <td>SOAKIMP12A8C130995</td>\n",
       "      <td>0.000000</td>\n",
       "    </tr>\n",
       "    <tr>\n",
       "      <th>1</th>\n",
       "      <td>b80344d063b5ccb3212f76538f3d9e43d87dca9e</td>\n",
       "      <td>SOAPDEY12A81C210A9</td>\n",
       "      <td>0.000000</td>\n",
       "    </tr>\n",
       "    <tr>\n",
       "      <th>2</th>\n",
       "      <td>b80344d063b5ccb3212f76538f3d9e43d87dca9e</td>\n",
       "      <td>SOBBMDR12A8C13253B</td>\n",
       "      <td>0.218104</td>\n",
       "    </tr>\n",
       "    <tr>\n",
       "      <th>3</th>\n",
       "      <td>b80344d063b5ccb3212f76538f3d9e43d87dca9e</td>\n",
       "      <td>SOBFNSP12AF72A0E22</td>\n",
       "      <td>0.000000</td>\n",
       "    </tr>\n",
       "    <tr>\n",
       "      <th>4</th>\n",
       "      <td>b80344d063b5ccb3212f76538f3d9e43d87dca9e</td>\n",
       "      <td>SOBFOVM12A58A7D494</td>\n",
       "      <td>0.000000</td>\n",
       "    </tr>\n",
       "  </tbody>\n",
       "</table>\n",
       "</div>"
      ],
      "text/plain": [
       "                                    user_id            track_id    rating\n",
       "0  b80344d063b5ccb3212f76538f3d9e43d87dca9e  SOAKIMP12A8C130995  0.000000\n",
       "1  b80344d063b5ccb3212f76538f3d9e43d87dca9e  SOAPDEY12A81C210A9  0.000000\n",
       "2  b80344d063b5ccb3212f76538f3d9e43d87dca9e  SOBBMDR12A8C13253B  0.218104\n",
       "3  b80344d063b5ccb3212f76538f3d9e43d87dca9e  SOBFNSP12AF72A0E22  0.000000\n",
       "4  b80344d063b5ccb3212f76538f3d9e43d87dca9e  SOBFOVM12A58A7D494  0.000000"
      ]
     },
     "execution_count": 8,
     "metadata": {},
     "output_type": "execute_result"
    }
   ],
   "source": [
    "tt.plays = tt.plays.transform(lambda x: 24 if x > 24 else x)\n",
    "max_log_plays = np.max(np.log10(tt['plays']))\n",
    "tt['rating'] = np.log10(tt.plays)/max_log_plays\n",
    "tt = tt.drop(columns='plays')\n",
    "tt.head()"
   ]
  },
  {
   "cell_type": "code",
   "execution_count": 9,
   "id": "f809d0df",
   "metadata": {},
   "outputs": [
    {
     "name": "stdout",
     "output_type": "stream",
     "text": [
      "<class 'pandas.core.frame.DataFrame'>\n",
      "RangeIndex: 48373586 entries, 0 to 48373585\n",
      "Data columns (total 3 columns):\n",
      " #   Column    Dtype  \n",
      "---  ------    -----  \n",
      " 0   user_id   object \n",
      " 1   track_id  object \n",
      " 2   rating    float64\n",
      "dtypes: float64(1), object(2)\n",
      "memory usage: 1.1+ GB\n"
     ]
    }
   ],
   "source": [
    "tt.info()"
   ]
  },
  {
   "cell_type": "code",
   "execution_count": 10,
   "id": "fc5639b6",
   "metadata": {},
   "outputs": [
    {
     "data": {
      "image/png": "[encoded data removed]",
      "text/plain": [
       "<Figure size 576x576 with 1 Axes>"
      ]
     },
     "metadata": {
      "needs_background": "light"
     },
     "output_type": "display_data"
    }
   ],
   "source": [
    "fig,ax = plt.subplots(figsize=(8,8))\n",
    "ax.hist(round(tt.rating*5)+1,bins = 5,align='left',color = sns.color_palette(\"husl\", 7)[2]);\n",
    "plt.xlabel('Rating')\n",
    "plt.ylabel('Count')\n",
    "plt.savefig('../img/ratings_hist.jpg')\n",
    "# print(np.max(tt['rating'])))"
   ]
  },
  {
   "cell_type": "code",
   "execution_count": 11,
   "id": "8995963d",
   "metadata": {},
   "outputs": [
    {
     "data": {
      "text/plain": [
       "(48373586, 3)"
      ]
     },
     "execution_count": 11,
     "metadata": {},
     "output_type": "execute_result"
    }
   ],
   "source": [
    "tt.shape"
   ]
  },
  {
   "cell_type": "code",
   "execution_count": 12,
   "id": "88316577",
   "metadata": {},
   "outputs": [
    {
     "data": {
      "text/plain": [
       "47.45681524313316"
      ]
     },
     "execution_count": 12,
     "metadata": {},
     "output_type": "execute_result"
    }
   ],
   "source": [
    "tt.groupby('user_id').count()['track_id'].mean()"
   ]
  },
  {
   "cell_type": "code",
   "execution_count": 13,
   "id": "2e697736",
   "metadata": {},
   "outputs": [
    {
     "data": {
      "text/plain": [
       "125.79401684063805"
      ]
     },
     "execution_count": 13,
     "metadata": {},
     "output_type": "execute_result"
    }
   ],
   "source": [
    "tt.groupby('track_id').count()['user_id'].mean()"
   ]
  },
  {
   "cell_type": "code",
   "execution_count": 51,
   "id": "89555c48",
   "metadata": {},
   "outputs": [],
   "source": [
    "track_popularity = tt.groupby('track_id').count()['user_id'].sort_values(ascending=False)\n",
    "cumsum_popularity = np.cumsum(track_popularity/tt.shape[0])"
   ]
  },
  {
   "cell_type": "code",
   "execution_count": 19,
   "id": "6bd45081",
   "metadata": {},
   "outputs": [
    {
     "data": {
      "text/plain": [
       "track_id\n",
       "SOFRQTD12A81C233C0    110479\n",
       "SOAUWYT12A81C206F1     90476\n",
       "SOAXGDH12A8C13F8A1     90444\n",
       "SOBONKR12A58A7A7E0     84000\n",
       "SOSXLTC12AF72A7F54     80656\n",
       "Name: user_id, dtype: int64"
      ]
     },
     "execution_count": 19,
     "metadata": {},
     "output_type": "execute_result"
    }
   ],
   "source": [
    "track_popularity.head()"
   ]
  },
  {
   "cell_type": "code",
   "execution_count": 44,
   "id": "37068f7d",
   "metadata": {},
   "outputs": [
    {
     "data": {
      "image/png": "[encoded data removed]",
      "text/plain": [
       "<Figure size 720x432 with 1 Axes>"
      ]
     },
     "metadata": {
      "needs_background": "light"
     },
     "output_type": "display_data"
    }
   ],
   "source": [
    "fig,ax = plt.subplots(figsize=(10,6))\n",
    "\n",
    "#plot the survival function\n",
    "ax.plot(np.log10(track_popularity),cumsum_popularity, \n",
    "        color = sns.color_palette(\"husl\", 7)[0], linewidth=3)\n",
    "\n",
    "ax.set_xlim(ax.get_xlim()[::-1])\n",
    "plt.grid(which='both')\n",
    "plt.minorticks_on()\n",
    "\n",
    "plt.xlabel('log(Users per Song)')\n",
    "plt.ylabel('Proportion of Total Entries')\n",
    "\n",
    "plt.title('Track Popularity')\n",
    "plt.savefig('../img/track_popularity.jpg')"
   ]
  },
  {
   "cell_type": "code",
   "execution_count": 36,
   "id": "848c5a20",
   "metadata": {},
   "outputs": [
    {
     "data": {
      "text/plain": [
       "count    384546.000000\n",
       "mean        125.794017\n",
       "std         799.025834\n",
       "min           1.000000\n",
       "25%           4.000000\n",
       "50%          13.000000\n",
       "75%          52.000000\n",
       "90%         218.000000\n",
       "95%         488.000000\n",
       "99%        1970.000000\n",
       "max      110479.000000\n",
       "Name: user_id, dtype: float64"
      ]
     },
     "execution_count": 36,
     "metadata": {},
     "output_type": "execute_result"
    }
   ],
   "source": [
    "track_popularity.describe(percentiles = [.25, .5, .75, .9, .95, .99])"
   ]
  },
  {
   "cell_type": "code",
   "execution_count": 48,
   "id": "0bd4ea07",
   "metadata": {},
   "outputs": [
    {
     "data": {
      "text/plain": [
       "SOFRQTD12A81C233C0    110479\n",
       "SOAUWYT12A81C206F1     90476\n",
       "SOAXGDH12A8C13F8A1     90444\n",
       "SOBONKR12A58A7A7E0     84000\n",
       "SOSXLTC12AF72A7F54     80656\n",
       "                       ...  \n",
       "SOSBKKN12A8C1384B4      6565\n",
       "SOCPTWE12A6701E2F8      6558\n",
       "SOOHCUB12A58A7AD2C      6556\n",
       "SOOEEPE12A8AE459A4      6556\n",
       "SOTEFFR12A8C144765      6555\n",
       "Name: track_id, Length: 500, dtype: int64"
      ]
     },
     "execution_count": 48,
     "metadata": {},
     "output_type": "execute_result"
    }
   ],
   "source": [
    "tt['track_id'].value_counts()[:500]"
   ]
  },
  {
   "cell_type": "code",
   "execution_count": 74,
   "id": "54a2994f",
   "metadata": {},
   "outputs": [
    {
     "name": "stdout",
     "output_type": "stream",
     "text": [
      "2.8171851369450938\n",
      "0.11446565073757402\n",
      "<class 'pandas.core.frame.DataFrame'>\n",
      "Int64Index: 5537114 entries, 9 to 48373583\n",
      "Data columns (total 3 columns):\n",
      " #   Column    Dtype \n",
      "---  ------    ----- \n",
      " 0   user_id   object\n",
      " 1   track_id  object\n",
      " 2   plays     int64 \n",
      "dtypes: int64(1), object(2)\n",
      "memory usage: 169.0+ MB\n"
     ]
    }
   ],
   "source": [
    "top_tracks = tt['track_id'].value_counts()[:250].index.tolist()\n",
    "tt_top_tracks = tt[tt['track_id'].isin(top_tracks)]\n",
    "\n",
    "num_users = tt_top_tracks.user_id.unique().shape[0]\n",
    "num_songs = tt_top_tracks.track_id.unique().shape[0]\n",
    "num_entries = tt_top_tracks.shape[0]\n",
    "sparsity = num_entries/(num_users*num_songs)*100\n",
    "\n",
    "print(sparsity)\n",
    "print(tt_top_tracks.shape[0]/tt.shape[0])\n",
    "\n",
    "tt_top_tracks.info()"
   ]
  },
  {
   "cell_type": "code",
   "execution_count": 17,
   "id": "4ceacc42",
   "metadata": {
    "scrolled": true
   },
   "outputs": [
    {
     "name": "stdout",
     "output_type": "stream",
     "text": [
      "<class 'pandas.core.frame.DataFrame'>\n",
      "Int64Index: 3431406 entries, 22 to 48373583\n",
      "Data columns (total 3 columns):\n",
      " #   Column    Dtype  \n",
      "---  ------    -----  \n",
      " 0   user_id   object \n",
      " 1   track_id  object \n",
      " 2   rating    float64\n",
      "dtypes: float64(1), object(2)\n",
      "memory usage: 104.7+ MB\n"
     ]
    }
   ],
   "source": [
    "top_tracks = tt['track_id'].value_counts()[:100].index.tolist()\n",
    "tt = tt[tt['track_id'].isin(top_tracks)]\n",
    "tt.info()"
   ]
  },
  {
   "cell_type": "code",
   "execution_count": 18,
   "id": "73f00a45",
   "metadata": {
    "scrolled": true
   },
   "outputs": [
    {
     "data": {
      "text/plain": [
       "SOFRQTD12A81C233C0    110479\n",
       "SOAUWYT12A81C206F1     90476\n",
       "SOAXGDH12A8C13F8A1     90444\n",
       "SOBONKR12A58A7A7E0     84000\n",
       "SOSXLTC12AF72A7F54     80656\n",
       "                       ...  \n",
       "SOKOXWU12AF72AD1BC     20555\n",
       "SOGCWUH12AC90732B0     20439\n",
       "SORJICW12A8C13640D     20404\n",
       "SODCNJX12A6D4F93CB     20278\n",
       "SOISNSU12AC468C0D8     20197\n",
       "Name: track_id, Length: 100, dtype: int64"
      ]
     },
     "execution_count": 18,
     "metadata": {},
     "output_type": "execute_result"
    }
   ],
   "source": [
    "tt['track_id'].value_counts()"
   ]
  },
  {
   "cell_type": "code",
   "execution_count": 19,
   "id": "b7ef30e0",
   "metadata": {},
   "outputs": [
    {
     "data": {
      "text/plain": [
       "0.1625454590083587"
      ]
     },
     "execution_count": 19,
     "metadata": {},
     "output_type": "execute_result"
    }
   ],
   "source": [
    "tt['rating'].mean()"
   ]
  },
  {
   "cell_type": "code",
   "execution_count": 20,
   "id": "585cbd1a",
   "metadata": {},
   "outputs": [
    {
     "data": {
      "image/png": "[encoded data removed]",
      "text/plain": [
       "<Figure size 576x576 with 1 Axes>"
      ]
     },
     "metadata": {
      "needs_background": "light"
     },
     "output_type": "display_data"
    }
   ],
   "source": [
    "fig,ax = plt.subplots(figsize=(8,8))\n",
    "ax.hist(tt['rating'],bins = 10);"
   ]
  },
  {
   "cell_type": "code",
   "execution_count": 21,
   "id": "fae45b53",
   "metadata": {},
   "outputs": [
    {
     "data": {
      "text/plain": [
       "count    3.431406e+06\n",
       "mean     1.625455e-01\n",
       "std      1.989782e-01\n",
       "min      0.000000e+00\n",
       "1%       0.000000e+00\n",
       "5%       0.000000e+00\n",
       "10%      0.000000e+00\n",
       "25%      0.000000e+00\n",
       "50%      1.505150e-01\n",
       "75%      3.010300e-01\n",
       "90%      4.515450e-01\n",
       "95%      5.569717e-01\n",
       "99%      7.592570e-01\n",
       "max      1.000000e+00\n",
       "Name: rating, dtype: float64"
      ]
     },
     "execution_count": 21,
     "metadata": {},
     "output_type": "execute_result"
    }
   ],
   "source": [
    "tt['rating'].describe(percentiles = [.01, .05, .1, .25, .5, .75, .9, .95, .99])"
   ]
  },
  {
   "cell_type": "code",
   "execution_count": 22,
   "id": "3184da92",
   "metadata": {},
   "outputs": [
    {
     "name": "stdout",
     "output_type": "stream",
     "text": [
      "5.140583029843613\n"
     ]
    }
   ],
   "source": [
    "num_users = tt.user_id.unique().shape[0]\n",
    "num_songs = tt.track_id.unique().shape[0]\n",
    "num_entries = tt.shape[0]\n",
    "sparsity = num_entries/(num_users*num_songs)*100\n",
    "print(sparsity)"
   ]
  },
  {
   "cell_type": "code",
   "execution_count": 64,
   "id": "4679dc70",
   "metadata": {},
   "outputs": [],
   "source": [
    "user_ubiquity = tt.groupby('user_id').count()['track_id'].sort_values(ascending=False)\n",
    "cumsum_user = np.cumsum(user_ubiquity)"
   ]
  },
  {
   "cell_type": "code",
   "execution_count": 65,
   "id": "8965a47f",
   "metadata": {},
   "outputs": [
    {
     "data": {
      "text/plain": [
       "user_id\n",
       "ec6dfcf19485cb011e0b22637075037aae34cf26     4400\n",
       "8cb51abc6bf8ea29341cb070fe1e1af5e4c3ffcc     6051\n",
       "fef771ab021c200187a419f5e55311390f850a50     7665\n",
       "5a3417a1955d9136413e0d293cd36497f5e00238     9269\n",
       "c1255748c06ee3f6440c51c439446886c7807095    10835\n",
       "Name: track_id, dtype: int64"
      ]
     },
     "execution_count": 65,
     "metadata": {},
     "output_type": "execute_result"
    }
   ],
   "source": [
    "cumsum_user.head()"
   ]
  },
  {
   "cell_type": "code",
   "execution_count": 66,
   "id": "1d03cd9f",
   "metadata": {},
   "outputs": [
    {
     "data": {
      "text/plain": [
       "Text(0, 0.5, 'Proportion of Total Entries')"
      ]
     },
     "execution_count": 66,
     "metadata": {},
     "output_type": "execute_result"
    },
    {
     "data": {
      "image/png": "[encoded data removed]",
      "text/plain": [
       "<Figure size 720x432 with 1 Axes>"
      ]
     },
     "metadata": {
      "needs_background": "light"
     },
     "output_type": "display_data"
    }
   ],
   "source": [
    "fig,ax = plt.subplots(figsize=(10,6))\n",
    "\n",
    "#plot the survival function\n",
    "ax.plot(np.log10(user_ubiquity),cumsum_user/tt.shape[0], c='red')\n",
    "\n",
    "ax.set_xlim(ax.get_xlim()[::-1])\n",
    "plt.grid(which='both')\n",
    "plt.minorticks_on()\n",
    "\n",
    "plt.xlabel('log(Songs per User)')\n",
    "plt.ylabel('Proportion of Total Entries')\n",
    "\n",
    "# plt.title('User Popularity')\n",
    "# plt.savefig('../img/track_popularity.jpg')"
   ]
  },
  {
   "cell_type": "code",
   "execution_count": 67,
   "id": "af936e34",
   "metadata": {},
   "outputs": [
    {
     "data": {
      "text/plain": [
       "count    1.019318e+06\n",
       "mean     4.745682e+01\n",
       "std      5.781573e+01\n",
       "min      1.000000e+01\n",
       "25%      1.600000e+01\n",
       "50%      2.700000e+01\n",
       "75%      5.500000e+01\n",
       "90%      1.050000e+02\n",
       "95%      1.500000e+02\n",
       "99%      2.840000e+02\n",
       "max      4.400000e+03\n",
       "Name: track_id, dtype: float64"
      ]
     },
     "execution_count": 67,
     "metadata": {},
     "output_type": "execute_result"
    }
   ],
   "source": [
    "user_ubiquity.describe(percentiles = [.25, .5, .75, .9, .95, .99])"
   ]
  },
  {
   "cell_type": "code",
   "execution_count": 68,
   "id": "b189d7b7",
   "metadata": {},
   "outputs": [
    {
     "data": {
      "text/plain": [
       "ec6dfcf19485cb011e0b22637075037aae34cf26    4400\n",
       "8cb51abc6bf8ea29341cb070fe1e1af5e4c3ffcc    1651\n",
       "fef771ab021c200187a419f5e55311390f850a50    1614\n",
       "5a3417a1955d9136413e0d293cd36497f5e00238    1604\n",
       "c1255748c06ee3f6440c51c439446886c7807095    1566\n",
       "                                            ... \n",
       "fe685c55b08f504006a0c3aff077863837498481     654\n",
       "0afa6b5d654f1817a421846d5a282d7397b6de42     654\n",
       "1d3a9fdc4ae7ce0e9b8b7a26854cf193e13fe998     654\n",
       "1d323510375f5bfeaebbcb47f941245236dc670e     654\n",
       "14512336133dbf7022efda8a4a696d2cf165fc9d     653\n",
       "Name: user_id, Length: 500, dtype: int64"
      ]
     },
     "execution_count": 68,
     "metadata": {},
     "output_type": "execute_result"
    }
   ],
   "source": [
    "tt['user_id'].value_counts()[:500]"
   ]
  },
  {
   "cell_type": "code",
   "execution_count": 71,
   "id": "181640a4",
   "metadata": {},
   "outputs": [
    {
     "name": "stdout",
     "output_type": "stream",
     "text": [
      "0.8115669079708865\n",
      "0.008551774515951743\n",
      "<class 'pandas.core.frame.DataFrame'>\n",
      "Int64Index: 413680 entries, 43680 to 48323403\n",
      "Data columns (total 3 columns):\n",
      " #   Column    Non-Null Count   Dtype  \n",
      "---  ------    --------------   -----  \n",
      " 0   user_id   413680 non-null  object \n",
      " 1   track_id  413680 non-null  object \n",
      " 2   rating    413680 non-null  float64\n",
      "dtypes: float64(1), object(2)\n",
      "memory usage: 12.6+ MB\n"
     ]
    }
   ],
   "source": [
    "top_users = tt['user_id'].value_counts()[:500].index.tolist()\n",
    "tt_top_users = tt[tt['user_id'].isin(top_users)]\n",
    "\n",
    "num_users = tt_top_users.user_id.unique().shape[0]\n",
    "num_songs = tt_top_users.track_id.unique().shape[0]\n",
    "num_entries = tt_top_users.shape[0]\n",
    "sparsity = num_entries/(num_users*num_songs)*100\n",
    "\n",
    "print(sparsity)\n",
    "print(tt_top_users.shape[0]/tt.shape[0])\n",
    "\n",
    "tt_top_users.info()"
   ]
  },
  {
   "cell_type": "code",
   "execution_count": 17,
   "id": "d7cd561b",
   "metadata": {
    "scrolled": true
   },
   "outputs": [
    {
     "name": "stdout",
     "output_type": "stream",
     "text": [
      "<class 'pandas.core.frame.DataFrame'>\n",
      "Int64Index: 3431406 entries, 22 to 48373583\n",
      "Data columns (total 3 columns):\n",
      " #   Column    Dtype  \n",
      "---  ------    -----  \n",
      " 0   user_id   object \n",
      " 1   track_id  object \n",
      " 2   rating    float64\n",
      "dtypes: float64(1), object(2)\n",
      "memory usage: 104.7+ MB\n"
     ]
    }
   ],
   "source": [
    "top_users = tt['user_id'].value_counts()[:100].index.tolist()\n",
    "tt = tt[tt['track_id'].isin(top_tracks)]\n",
    "tt.info()"
   ]
  },
  {
   "cell_type": "code",
   "execution_count": 18,
   "id": "39abc52c",
   "metadata": {
    "scrolled": true
   },
   "outputs": [
    {
     "data": {
      "text/plain": [
       "SOFRQTD12A81C233C0    110479\n",
       "SOAUWYT12A81C206F1     90476\n",
       "SOAXGDH12A8C13F8A1     90444\n",
       "SOBONKR12A58A7A7E0     84000\n",
       "SOSXLTC12AF72A7F54     80656\n",
       "                       ...  \n",
       "SOKOXWU12AF72AD1BC     20555\n",
       "SOGCWUH12AC90732B0     20439\n",
       "SORJICW12A8C13640D     20404\n",
       "SODCNJX12A6D4F93CB     20278\n",
       "SOISNSU12AC468C0D8     20197\n",
       "Name: track_id, Length: 100, dtype: int64"
      ]
     },
     "execution_count": 18,
     "metadata": {},
     "output_type": "execute_result"
    }
   ],
   "source": [
    "tt['track_id'].value_counts()"
   ]
  }
 ],
 "metadata": {
  "kernelspec": {
   "display_name": "Python 3.9.1 64-bit ('base': conda)",
   "language": "python",
   "name": "python391jvsc74a57bd0b6514bc0d4f53b0f2587f3676c8605d39339b942f2cc28ce55a0b87701275da9"
  },
  "language_info": {
   "codemirror_mode": {
    "name": "ipython",
    "version": 3
   },
   "file_extension": ".py",
   "mimetype": "text/x-python",
   "name": "python",
   "nbconvert_exporter": "python",
   "pygments_lexer": "ipython3",
   "version": "3.9.1"
  }
 },
 "nbformat": 4,
 "nbformat_minor": 5
}
